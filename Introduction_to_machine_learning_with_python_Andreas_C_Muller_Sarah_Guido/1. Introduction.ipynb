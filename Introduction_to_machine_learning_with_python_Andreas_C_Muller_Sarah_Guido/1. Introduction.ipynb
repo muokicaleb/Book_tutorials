{
 "cells": [
  {
   "cell_type": "markdown",
   "metadata": {},
   "source": [
    "# Introduction\n",
    "Machine learning is about extracting knowledge from data. It is a research field at the\n",
    "intersection of statistics, artificial intelligence, and computer science and is also\n",
    "known as predictive analytics or statistical learning.\n",
    "\n",
    "## Why Machine Learning ? \n",
    "\n",
    "Using handcoded rules to make decisions has two major disadvantages:\n",
    "* The logic required to make a decision is specific to a single domain and task. Changing the task even slightly might require a rewrite of the whole system.\n",
    "* Designing rules requires a deep understanding of how a decision should be made by a human expert.\n",
    "\n",
    "### Problems Machine Learning Can Solve.\n",
    "\n",
    "The most successful kinds of machine learning algorithms are those that automate decision-making processes by generalizing from known examples.\n",
    "\n",
    "In supervised learning, the user provides the algorithm with pairs of inputs and desired outputs, and the algorithm finds a way to produce the desired output given an input. In particular, the algorithm is able to create an output for an input it has never seen before without any help from a human\n",
    "\n",
    "Machine learning algorithms that learn from input/output pairs are called supervised learning algorithms.\n",
    "\n",
    "Examples of supervised machine learning tasks include:\n",
    "* Identifying the zip code from handwritten digits on an envelope\n",
    "* Determining whether a tumor is benign based on a medical image\n",
    "* Detecting fraudulent activity in credit card transactions\n",
    "\n",
    "In unsupervised learning, only the input data is known, and no known output data is given to the algorithm.\n",
    "\n",
    "Examples of unsupervised learning include:\n",
    "* Identifying topics in a set of blog posts\n",
    "* Segmenting customers into groups with similar preferences\n",
    "* Detecting abnormal access patterns to a website\n",
    "\n",
    "### Knowing Your Task and Knowing Your Data\n",
    "\n",
    "the most important part in the machine learning process is understanding the data you are working with and how it relates to the task you want to solve.\n",
    "While you are building a machine learning solution,you should answer, or at least keep in mind, the following questions:\n",
    "* What question(s) am I trying to answer? Do I think the data collected can answer that question?\n",
    "* What is the best way to phrase my question(s) as a machine learning problem?\n",
    "* Have I collected enough data to represent the problem I want to solve?\n",
    "* What features of the data did I extract, and will these enable the right predictions?\n",
    "* How will I measure success in my application?\n",
    "* How will the machine learning solution interact with other parts of my research or business product?"
   ]
  },
  {
   "cell_type": "markdown",
   "metadata": {},
   "source": [
    "## Why Python ?\n",
    "\n",
    "It combines the power of general-purpose programming languages with the ease of use of domain-specific scripting languages like MATLAB or R.\n",
    "Python has libraries for data loading, visualization, statistics, natural language processing, image processing, and more. This vast toolbox provides data scientists with a large array of general- and special-purpose functionality. One of the main advantages of using Python is the abil‐ ity to interact directly with the code, using a terminal or other tools like the Jupyter Notebook.\n",
    "\n"
   ]
  },
  {
   "cell_type": "markdown",
   "metadata": {},
   "source": [
    "## scikit-learn\n",
    "\n",
    "scikit-learn is an open source project that contains a number of state-of-the-art machine learning algorithms, as well as comprehensive documentation about each algorithm. scikit-learn is a very popular tool, and the most prominent Python library for machine learning. It is widely used in industry and academia.\n",
    "\n",
    "### Installing scikit-learn\n",
    "$ pip install numpy scipy matplotlib ipython scikit-learn pandas\n",
    "\n"
   ]
  },
  {
   "cell_type": "markdown",
   "metadata": {},
   "source": [
    "## Essential Libraries and Tools\n",
    "\n",
    "### Jupyter Notebook\n",
    "### Numpy\n",
    "\n",
    "contains functionality for multidimensional arrays, highlevel mathematical functions such as linear algebra operations and the Fourier transform, and pseudorandom number generators. Any data you’re using will have to be converted to a NumPy array"
   ]
  },
  {
   "cell_type": "code",
   "execution_count": 1,
   "metadata": {},
   "outputs": [],
   "source": [
    "import numpy as np "
   ]
  },
  {
   "cell_type": "code",
   "execution_count": 2,
   "metadata": {},
   "outputs": [],
   "source": [
    "x = np.array([[1, 2, 3], [4, 5, 6]])"
   ]
  },
  {
   "cell_type": "code",
   "execution_count": 3,
   "metadata": {},
   "outputs": [
    {
     "name": "stdout",
     "output_type": "stream",
     "text": [
      "x:\n",
      "[[1 2 3]\n",
      " [4 5 6]]\n"
     ]
    }
   ],
   "source": [
    "print(\"x:\\n{}\".format(x))"
   ]
  },
  {
   "cell_type": "markdown",
   "metadata": {},
   "source": [
    "### SciPy\n",
    "This is a collection of functions for scientific computing in Python. In out case the most important part is `scipy.sparse` this provides _sparse matrices_. The are used when we want to store 2D arrays that contain mostly zeros."
   ]
  },
  {
   "cell_type": "code",
   "execution_count": 4,
   "metadata": {},
   "outputs": [],
   "source": [
    "from scipy import sparse"
   ]
  },
  {
   "cell_type": "code",
   "execution_count": 6,
   "metadata": {},
   "outputs": [
    {
     "name": "stdout",
     "output_type": "stream",
     "text": [
      "Numpy array:\n",
      " [[1. 0. 0. 0.]\n",
      " [0. 1. 0. 0.]\n",
      " [0. 0. 1. 0.]\n",
      " [0. 0. 0. 1.]]\n"
     ]
    }
   ],
   "source": [
    "# create a 2d Numpy array with a duagonal of ones and seros everywhere else\n",
    "eye = np.eye(4)\n",
    "print(\"Numpy array:\\n\", eye)"
   ]
  },
  {
   "cell_type": "code",
   "execution_count": 7,
   "metadata": {},
   "outputs": [
    {
     "name": "stdout",
     "output_type": "stream",
     "text": [
      "\n",
      "SciPy sparse CSR matrix:\n",
      "   (0, 0)\t1.0\n",
      "  (1, 1)\t1.0\n",
      "  (2, 2)\t1.0\n",
      "  (3, 3)\t1.0\n"
     ]
    }
   ],
   "source": [
    "# COnvert the NUmpy array to a Scipy Sparse matrix in csr format\n",
    "# Only the nonzero entries are stored\n",
    "sparse_matrix = sparse.csr_matrix(eye)\n",
    "print(\"\\nSciPy sparse CSR matrix:\\n\", sparse_matrix)"
   ]
  },
  {
   "cell_type": "markdown",
   "metadata": {},
   "source": [
    "It is not possible to create dense representations of sparse data as they would not fir into memory so we need to create  sparse representations directly. We can use COO format:\n"
   ]
  },
  {
   "cell_type": "code",
   "execution_count": 9,
   "metadata": {},
   "outputs": [
    {
     "name": "stdout",
     "output_type": "stream",
     "text": [
      "COO representation:\n",
      "   (0, 0)\t1.0\n",
      "  (0, 1)\t1.0\n",
      "  (0, 2)\t1.0\n",
      "  (0, 3)\t1.0\n"
     ]
    }
   ],
   "source": [
    "data = np.ones(4)\n",
    "row_indices = np.arange(4)\n",
    "col_indices = np.arange(4)\n",
    "eye_coo = sparse.coo_matrix(data,(row_indices, col_indices))\n",
    "print(\"COO representation:\\n\", eye_coo)"
   ]
  },
  {
   "cell_type": "markdown",
   "metadata": {},
   "source": [
    "### Matplotlib\n",
    "This is used in visualizations.\n",
    "when working in jupyter notebook use `%matplotlib inline` \n",
    "it is recommendend using `%matplotlib notebook` which provides an interactive environment."
   ]
  },
  {
   "cell_type": "code",
   "execution_count": 10,
   "metadata": {},
   "outputs": [],
   "source": [
    "%matplotlib notebook\n",
    "import matplotlib.pyplot as plt"
   ]
  },
  {
   "cell_type": "code",
   "execution_count": 11,
   "metadata": {},
   "outputs": [
    {
     "data": {
      "application/javascript": [
       "/* Put everything inside the global mpl namespace */\n",
       "window.mpl = {};\n",
       "\n",
       "\n",
       "mpl.get_websocket_type = function() {\n",
       "    if (typeof(WebSocket) !== 'undefined') {\n",
       "        return WebSocket;\n",
       "    } else if (typeof(MozWebSocket) !== 'undefined') {\n",
       "        return MozWebSocket;\n",
       "    } else {\n",
       "        alert('Your browser does not have WebSocket support.' +\n",
       "              'Please try Chrome, Safari or Firefox ≥ 6. ' +\n",
       "              'Firefox 4 and 5 are also supported but you ' +\n",
       "              'have to enable WebSockets in about:config.');\n",
       "    };\n",
       "}\n",
       "\n",
       "mpl.figure = function(figure_id, websocket, ondownload, parent_element) {\n",
       "    this.id = figure_id;\n",
       "\n",
       "    this.ws = websocket;\n",
       "\n",
       "    this.supports_binary = (this.ws.binaryType != undefined);\n",
       "\n",
       "    if (!this.supports_binary) {\n",
       "        var warnings = document.getElementById(\"mpl-warnings\");\n",
       "        if (warnings) {\n",
       "            warnings.style.display = 'block';\n",
       "            warnings.textContent = (\n",
       "                \"This browser does not support binary websocket messages. \" +\n",
       "                    \"Performance may be slow.\");\n",
       "        }\n",
       "    }\n",
       "\n",
       "    this.imageObj = new Image();\n",
       "\n",
       "    this.context = undefined;\n",
       "    this.message = undefined;\n",
       "    this.canvas = undefined;\n",
       "    this.rubberband_canvas = undefined;\n",
       "    this.rubberband_context = undefined;\n",
       "    this.format_dropdown = undefined;\n",
       "\n",
       "    this.image_mode = 'full';\n",
       "\n",
       "    this.root = $('<div/>');\n",
       "    this._root_extra_style(this.root)\n",
       "    this.root.attr('style', 'display: inline-block');\n",
       "\n",
       "    $(parent_element).append(this.root);\n",
       "\n",
       "    this._init_header(this);\n",
       "    this._init_canvas(this);\n",
       "    this._init_toolbar(this);\n",
       "\n",
       "    var fig = this;\n",
       "\n",
       "    this.waiting = false;\n",
       "\n",
       "    this.ws.onopen =  function () {\n",
       "            fig.send_message(\"supports_binary\", {value: fig.supports_binary});\n",
       "            fig.send_message(\"send_image_mode\", {});\n",
       "            if (mpl.ratio != 1) {\n",
       "                fig.send_message(\"set_dpi_ratio\", {'dpi_ratio': mpl.ratio});\n",
       "            }\n",
       "            fig.send_message(\"refresh\", {});\n",
       "        }\n",
       "\n",
       "    this.imageObj.onload = function() {\n",
       "            if (fig.image_mode == 'full') {\n",
       "                // Full images could contain transparency (where diff images\n",
       "                // almost always do), so we need to clear the canvas so that\n",
       "                // there is no ghosting.\n",
       "                fig.context.clearRect(0, 0, fig.canvas.width, fig.canvas.height);\n",
       "            }\n",
       "            fig.context.drawImage(fig.imageObj, 0, 0);\n",
       "        };\n",
       "\n",
       "    this.imageObj.onunload = function() {\n",
       "        fig.ws.close();\n",
       "    }\n",
       "\n",
       "    this.ws.onmessage = this._make_on_message_function(this);\n",
       "\n",
       "    this.ondownload = ondownload;\n",
       "}\n",
       "\n",
       "mpl.figure.prototype._init_header = function() {\n",
       "    var titlebar = $(\n",
       "        '<div class=\"ui-dialog-titlebar ui-widget-header ui-corner-all ' +\n",
       "        'ui-helper-clearfix\"/>');\n",
       "    var titletext = $(\n",
       "        '<div class=\"ui-dialog-title\" style=\"width: 100%; ' +\n",
       "        'text-align: center; padding: 3px;\"/>');\n",
       "    titlebar.append(titletext)\n",
       "    this.root.append(titlebar);\n",
       "    this.header = titletext[0];\n",
       "}\n",
       "\n",
       "\n",
       "\n",
       "mpl.figure.prototype._canvas_extra_style = function(canvas_div) {\n",
       "\n",
       "}\n",
       "\n",
       "\n",
       "mpl.figure.prototype._root_extra_style = function(canvas_div) {\n",
       "\n",
       "}\n",
       "\n",
       "mpl.figure.prototype._init_canvas = function() {\n",
       "    var fig = this;\n",
       "\n",
       "    var canvas_div = $('<div/>');\n",
       "\n",
       "    canvas_div.attr('style', 'position: relative; clear: both; outline: 0');\n",
       "\n",
       "    function canvas_keyboard_event(event) {\n",
       "        return fig.key_event(event, event['data']);\n",
       "    }\n",
       "\n",
       "    canvas_div.keydown('key_press', canvas_keyboard_event);\n",
       "    canvas_div.keyup('key_release', canvas_keyboard_event);\n",
       "    this.canvas_div = canvas_div\n",
       "    this._canvas_extra_style(canvas_div)\n",
       "    this.root.append(canvas_div);\n",
       "\n",
       "    var canvas = $('<canvas/>');\n",
       "    canvas.addClass('mpl-canvas');\n",
       "    canvas.attr('style', \"left: 0; top: 0; z-index: 0; outline: 0\")\n",
       "\n",
       "    this.canvas = canvas[0];\n",
       "    this.context = canvas[0].getContext(\"2d\");\n",
       "\n",
       "    var backingStore = this.context.backingStorePixelRatio ||\n",
       "\tthis.context.webkitBackingStorePixelRatio ||\n",
       "\tthis.context.mozBackingStorePixelRatio ||\n",
       "\tthis.context.msBackingStorePixelRatio ||\n",
       "\tthis.context.oBackingStorePixelRatio ||\n",
       "\tthis.context.backingStorePixelRatio || 1;\n",
       "\n",
       "    mpl.ratio = (window.devicePixelRatio || 1) / backingStore;\n",
       "\n",
       "    var rubberband = $('<canvas/>');\n",
       "    rubberband.attr('style', \"position: absolute; left: 0; top: 0; z-index: 1;\")\n",
       "\n",
       "    var pass_mouse_events = true;\n",
       "\n",
       "    canvas_div.resizable({\n",
       "        start: function(event, ui) {\n",
       "            pass_mouse_events = false;\n",
       "        },\n",
       "        resize: function(event, ui) {\n",
       "            fig.request_resize(ui.size.width, ui.size.height);\n",
       "        },\n",
       "        stop: function(event, ui) {\n",
       "            pass_mouse_events = true;\n",
       "            fig.request_resize(ui.size.width, ui.size.height);\n",
       "        },\n",
       "    });\n",
       "\n",
       "    function mouse_event_fn(event) {\n",
       "        if (pass_mouse_events)\n",
       "            return fig.mouse_event(event, event['data']);\n",
       "    }\n",
       "\n",
       "    rubberband.mousedown('button_press', mouse_event_fn);\n",
       "    rubberband.mouseup('button_release', mouse_event_fn);\n",
       "    // Throttle sequential mouse events to 1 every 20ms.\n",
       "    rubberband.mousemove('motion_notify', mouse_event_fn);\n",
       "\n",
       "    rubberband.mouseenter('figure_enter', mouse_event_fn);\n",
       "    rubberband.mouseleave('figure_leave', mouse_event_fn);\n",
       "\n",
       "    canvas_div.on(\"wheel\", function (event) {\n",
       "        event = event.originalEvent;\n",
       "        event['data'] = 'scroll'\n",
       "        if (event.deltaY < 0) {\n",
       "            event.step = 1;\n",
       "        } else {\n",
       "            event.step = -1;\n",
       "        }\n",
       "        mouse_event_fn(event);\n",
       "    });\n",
       "\n",
       "    canvas_div.append(canvas);\n",
       "    canvas_div.append(rubberband);\n",
       "\n",
       "    this.rubberband = rubberband;\n",
       "    this.rubberband_canvas = rubberband[0];\n",
       "    this.rubberband_context = rubberband[0].getContext(\"2d\");\n",
       "    this.rubberband_context.strokeStyle = \"#000000\";\n",
       "\n",
       "    this._resize_canvas = function(width, height) {\n",
       "        // Keep the size of the canvas, canvas container, and rubber band\n",
       "        // canvas in synch.\n",
       "        canvas_div.css('width', width)\n",
       "        canvas_div.css('height', height)\n",
       "\n",
       "        canvas.attr('width', width * mpl.ratio);\n",
       "        canvas.attr('height', height * mpl.ratio);\n",
       "        canvas.attr('style', 'width: ' + width + 'px; height: ' + height + 'px;');\n",
       "\n",
       "        rubberband.attr('width', width);\n",
       "        rubberband.attr('height', height);\n",
       "    }\n",
       "\n",
       "    // Set the figure to an initial 600x600px, this will subsequently be updated\n",
       "    // upon first draw.\n",
       "    this._resize_canvas(600, 600);\n",
       "\n",
       "    // Disable right mouse context menu.\n",
       "    $(this.rubberband_canvas).bind(\"contextmenu\",function(e){\n",
       "        return false;\n",
       "    });\n",
       "\n",
       "    function set_focus () {\n",
       "        canvas.focus();\n",
       "        canvas_div.focus();\n",
       "    }\n",
       "\n",
       "    window.setTimeout(set_focus, 100);\n",
       "}\n",
       "\n",
       "mpl.figure.prototype._init_toolbar = function() {\n",
       "    var fig = this;\n",
       "\n",
       "    var nav_element = $('<div/>')\n",
       "    nav_element.attr('style', 'width: 100%');\n",
       "    this.root.append(nav_element);\n",
       "\n",
       "    // Define a callback function for later on.\n",
       "    function toolbar_event(event) {\n",
       "        return fig.toolbar_button_onclick(event['data']);\n",
       "    }\n",
       "    function toolbar_mouse_event(event) {\n",
       "        return fig.toolbar_button_onmouseover(event['data']);\n",
       "    }\n",
       "\n",
       "    for(var toolbar_ind in mpl.toolbar_items) {\n",
       "        var name = mpl.toolbar_items[toolbar_ind][0];\n",
       "        var tooltip = mpl.toolbar_items[toolbar_ind][1];\n",
       "        var image = mpl.toolbar_items[toolbar_ind][2];\n",
       "        var method_name = mpl.toolbar_items[toolbar_ind][3];\n",
       "\n",
       "        if (!name) {\n",
       "            // put a spacer in here.\n",
       "            continue;\n",
       "        }\n",
       "        var button = $('<button/>');\n",
       "        button.addClass('ui-button ui-widget ui-state-default ui-corner-all ' +\n",
       "                        'ui-button-icon-only');\n",
       "        button.attr('role', 'button');\n",
       "        button.attr('aria-disabled', 'false');\n",
       "        button.click(method_name, toolbar_event);\n",
       "        button.mouseover(tooltip, toolbar_mouse_event);\n",
       "\n",
       "        var icon_img = $('<span/>');\n",
       "        icon_img.addClass('ui-button-icon-primary ui-icon');\n",
       "        icon_img.addClass(image);\n",
       "        icon_img.addClass('ui-corner-all');\n",
       "\n",
       "        var tooltip_span = $('<span/>');\n",
       "        tooltip_span.addClass('ui-button-text');\n",
       "        tooltip_span.html(tooltip);\n",
       "\n",
       "        button.append(icon_img);\n",
       "        button.append(tooltip_span);\n",
       "\n",
       "        nav_element.append(button);\n",
       "    }\n",
       "\n",
       "    var fmt_picker_span = $('<span/>');\n",
       "\n",
       "    var fmt_picker = $('<select/>');\n",
       "    fmt_picker.addClass('mpl-toolbar-option ui-widget ui-widget-content');\n",
       "    fmt_picker_span.append(fmt_picker);\n",
       "    nav_element.append(fmt_picker_span);\n",
       "    this.format_dropdown = fmt_picker[0];\n",
       "\n",
       "    for (var ind in mpl.extensions) {\n",
       "        var fmt = mpl.extensions[ind];\n",
       "        var option = $(\n",
       "            '<option/>', {selected: fmt === mpl.default_extension}).html(fmt);\n",
       "        fmt_picker.append(option)\n",
       "    }\n",
       "\n",
       "    // Add hover states to the ui-buttons\n",
       "    $( \".ui-button\" ).hover(\n",
       "        function() { $(this).addClass(\"ui-state-hover\");},\n",
       "        function() { $(this).removeClass(\"ui-state-hover\");}\n",
       "    );\n",
       "\n",
       "    var status_bar = $('<span class=\"mpl-message\"/>');\n",
       "    nav_element.append(status_bar);\n",
       "    this.message = status_bar[0];\n",
       "}\n",
       "\n",
       "mpl.figure.prototype.request_resize = function(x_pixels, y_pixels) {\n",
       "    // Request matplotlib to resize the figure. Matplotlib will then trigger a resize in the client,\n",
       "    // which will in turn request a refresh of the image.\n",
       "    this.send_message('resize', {'width': x_pixels, 'height': y_pixels});\n",
       "}\n",
       "\n",
       "mpl.figure.prototype.send_message = function(type, properties) {\n",
       "    properties['type'] = type;\n",
       "    properties['figure_id'] = this.id;\n",
       "    this.ws.send(JSON.stringify(properties));\n",
       "}\n",
       "\n",
       "mpl.figure.prototype.send_draw_message = function() {\n",
       "    if (!this.waiting) {\n",
       "        this.waiting = true;\n",
       "        this.ws.send(JSON.stringify({type: \"draw\", figure_id: this.id}));\n",
       "    }\n",
       "}\n",
       "\n",
       "\n",
       "mpl.figure.prototype.handle_save = function(fig, msg) {\n",
       "    var format_dropdown = fig.format_dropdown;\n",
       "    var format = format_dropdown.options[format_dropdown.selectedIndex].value;\n",
       "    fig.ondownload(fig, format);\n",
       "}\n",
       "\n",
       "\n",
       "mpl.figure.prototype.handle_resize = function(fig, msg) {\n",
       "    var size = msg['size'];\n",
       "    if (size[0] != fig.canvas.width || size[1] != fig.canvas.height) {\n",
       "        fig._resize_canvas(size[0], size[1]);\n",
       "        fig.send_message(\"refresh\", {});\n",
       "    };\n",
       "}\n",
       "\n",
       "mpl.figure.prototype.handle_rubberband = function(fig, msg) {\n",
       "    var x0 = msg['x0'] / mpl.ratio;\n",
       "    var y0 = (fig.canvas.height - msg['y0']) / mpl.ratio;\n",
       "    var x1 = msg['x1'] / mpl.ratio;\n",
       "    var y1 = (fig.canvas.height - msg['y1']) / mpl.ratio;\n",
       "    x0 = Math.floor(x0) + 0.5;\n",
       "    y0 = Math.floor(y0) + 0.5;\n",
       "    x1 = Math.floor(x1) + 0.5;\n",
       "    y1 = Math.floor(y1) + 0.5;\n",
       "    var min_x = Math.min(x0, x1);\n",
       "    var min_y = Math.min(y0, y1);\n",
       "    var width = Math.abs(x1 - x0);\n",
       "    var height = Math.abs(y1 - y0);\n",
       "\n",
       "    fig.rubberband_context.clearRect(\n",
       "        0, 0, fig.canvas.width, fig.canvas.height);\n",
       "\n",
       "    fig.rubberband_context.strokeRect(min_x, min_y, width, height);\n",
       "}\n",
       "\n",
       "mpl.figure.prototype.handle_figure_label = function(fig, msg) {\n",
       "    // Updates the figure title.\n",
       "    fig.header.textContent = msg['label'];\n",
       "}\n",
       "\n",
       "mpl.figure.prototype.handle_cursor = function(fig, msg) {\n",
       "    var cursor = msg['cursor'];\n",
       "    switch(cursor)\n",
       "    {\n",
       "    case 0:\n",
       "        cursor = 'pointer';\n",
       "        break;\n",
       "    case 1:\n",
       "        cursor = 'default';\n",
       "        break;\n",
       "    case 2:\n",
       "        cursor = 'crosshair';\n",
       "        break;\n",
       "    case 3:\n",
       "        cursor = 'move';\n",
       "        break;\n",
       "    }\n",
       "    fig.rubberband_canvas.style.cursor = cursor;\n",
       "}\n",
       "\n",
       "mpl.figure.prototype.handle_message = function(fig, msg) {\n",
       "    fig.message.textContent = msg['message'];\n",
       "}\n",
       "\n",
       "mpl.figure.prototype.handle_draw = function(fig, msg) {\n",
       "    // Request the server to send over a new figure.\n",
       "    fig.send_draw_message();\n",
       "}\n",
       "\n",
       "mpl.figure.prototype.handle_image_mode = function(fig, msg) {\n",
       "    fig.image_mode = msg['mode'];\n",
       "}\n",
       "\n",
       "mpl.figure.prototype.updated_canvas_event = function() {\n",
       "    // Called whenever the canvas gets updated.\n",
       "    this.send_message(\"ack\", {});\n",
       "}\n",
       "\n",
       "// A function to construct a web socket function for onmessage handling.\n",
       "// Called in the figure constructor.\n",
       "mpl.figure.prototype._make_on_message_function = function(fig) {\n",
       "    return function socket_on_message(evt) {\n",
       "        if (evt.data instanceof Blob) {\n",
       "            /* FIXME: We get \"Resource interpreted as Image but\n",
       "             * transferred with MIME type text/plain:\" errors on\n",
       "             * Chrome.  But how to set the MIME type?  It doesn't seem\n",
       "             * to be part of the websocket stream */\n",
       "            evt.data.type = \"image/png\";\n",
       "\n",
       "            /* Free the memory for the previous frames */\n",
       "            if (fig.imageObj.src) {\n",
       "                (window.URL || window.webkitURL).revokeObjectURL(\n",
       "                    fig.imageObj.src);\n",
       "            }\n",
       "\n",
       "            fig.imageObj.src = (window.URL || window.webkitURL).createObjectURL(\n",
       "                evt.data);\n",
       "            fig.updated_canvas_event();\n",
       "            fig.waiting = false;\n",
       "            return;\n",
       "        }\n",
       "        else if (typeof evt.data === 'string' && evt.data.slice(0, 21) == \"data:image/png;base64\") {\n",
       "            fig.imageObj.src = evt.data;\n",
       "            fig.updated_canvas_event();\n",
       "            fig.waiting = false;\n",
       "            return;\n",
       "        }\n",
       "\n",
       "        var msg = JSON.parse(evt.data);\n",
       "        var msg_type = msg['type'];\n",
       "\n",
       "        // Call the  \"handle_{type}\" callback, which takes\n",
       "        // the figure and JSON message as its only arguments.\n",
       "        try {\n",
       "            var callback = fig[\"handle_\" + msg_type];\n",
       "        } catch (e) {\n",
       "            console.log(\"No handler for the '\" + msg_type + \"' message type: \", msg);\n",
       "            return;\n",
       "        }\n",
       "\n",
       "        if (callback) {\n",
       "            try {\n",
       "                // console.log(\"Handling '\" + msg_type + \"' message: \", msg);\n",
       "                callback(fig, msg);\n",
       "            } catch (e) {\n",
       "                console.log(\"Exception inside the 'handler_\" + msg_type + \"' callback:\", e, e.stack, msg);\n",
       "            }\n",
       "        }\n",
       "    };\n",
       "}\n",
       "\n",
       "// from http://stackoverflow.com/questions/1114465/getting-mouse-location-in-canvas\n",
       "mpl.findpos = function(e) {\n",
       "    //this section is from http://www.quirksmode.org/js/events_properties.html\n",
       "    var targ;\n",
       "    if (!e)\n",
       "        e = window.event;\n",
       "    if (e.target)\n",
       "        targ = e.target;\n",
       "    else if (e.srcElement)\n",
       "        targ = e.srcElement;\n",
       "    if (targ.nodeType == 3) // defeat Safari bug\n",
       "        targ = targ.parentNode;\n",
       "\n",
       "    // jQuery normalizes the pageX and pageY\n",
       "    // pageX,Y are the mouse positions relative to the document\n",
       "    // offset() returns the position of the element relative to the document\n",
       "    var x = e.pageX - $(targ).offset().left;\n",
       "    var y = e.pageY - $(targ).offset().top;\n",
       "\n",
       "    return {\"x\": x, \"y\": y};\n",
       "};\n",
       "\n",
       "/*\n",
       " * return a copy of an object with only non-object keys\n",
       " * we need this to avoid circular references\n",
       " * http://stackoverflow.com/a/24161582/3208463\n",
       " */\n",
       "function simpleKeys (original) {\n",
       "  return Object.keys(original).reduce(function (obj, key) {\n",
       "    if (typeof original[key] !== 'object')\n",
       "        obj[key] = original[key]\n",
       "    return obj;\n",
       "  }, {});\n",
       "}\n",
       "\n",
       "mpl.figure.prototype.mouse_event = function(event, name) {\n",
       "    var canvas_pos = mpl.findpos(event)\n",
       "\n",
       "    if (name === 'button_press')\n",
       "    {\n",
       "        this.canvas.focus();\n",
       "        this.canvas_div.focus();\n",
       "    }\n",
       "\n",
       "    var x = canvas_pos.x * mpl.ratio;\n",
       "    var y = canvas_pos.y * mpl.ratio;\n",
       "\n",
       "    this.send_message(name, {x: x, y: y, button: event.button,\n",
       "                             step: event.step,\n",
       "                             guiEvent: simpleKeys(event)});\n",
       "\n",
       "    /* This prevents the web browser from automatically changing to\n",
       "     * the text insertion cursor when the button is pressed.  We want\n",
       "     * to control all of the cursor setting manually through the\n",
       "     * 'cursor' event from matplotlib */\n",
       "    event.preventDefault();\n",
       "    return false;\n",
       "}\n",
       "\n",
       "mpl.figure.prototype._key_event_extra = function(event, name) {\n",
       "    // Handle any extra behaviour associated with a key event\n",
       "}\n",
       "\n",
       "mpl.figure.prototype.key_event = function(event, name) {\n",
       "\n",
       "    // Prevent repeat events\n",
       "    if (name == 'key_press')\n",
       "    {\n",
       "        if (event.which === this._key)\n",
       "            return;\n",
       "        else\n",
       "            this._key = event.which;\n",
       "    }\n",
       "    if (name == 'key_release')\n",
       "        this._key = null;\n",
       "\n",
       "    var value = '';\n",
       "    if (event.ctrlKey && event.which != 17)\n",
       "        value += \"ctrl+\";\n",
       "    if (event.altKey && event.which != 18)\n",
       "        value += \"alt+\";\n",
       "    if (event.shiftKey && event.which != 16)\n",
       "        value += \"shift+\";\n",
       "\n",
       "    value += 'k';\n",
       "    value += event.which.toString();\n",
       "\n",
       "    this._key_event_extra(event, name);\n",
       "\n",
       "    this.send_message(name, {key: value,\n",
       "                             guiEvent: simpleKeys(event)});\n",
       "    return false;\n",
       "}\n",
       "\n",
       "mpl.figure.prototype.toolbar_button_onclick = function(name) {\n",
       "    if (name == 'download') {\n",
       "        this.handle_save(this, null);\n",
       "    } else {\n",
       "        this.send_message(\"toolbar_button\", {name: name});\n",
       "    }\n",
       "};\n",
       "\n",
       "mpl.figure.prototype.toolbar_button_onmouseover = function(tooltip) {\n",
       "    this.message.textContent = tooltip;\n",
       "};\n",
       "mpl.toolbar_items = [[\"Home\", \"Reset original view\", \"fa fa-home icon-home\", \"home\"], [\"Back\", \"Back to  previous view\", \"fa fa-arrow-left icon-arrow-left\", \"back\"], [\"Forward\", \"Forward to next view\", \"fa fa-arrow-right icon-arrow-right\", \"forward\"], [\"\", \"\", \"\", \"\"], [\"Pan\", \"Pan axes with left mouse, zoom with right\", \"fa fa-arrows icon-move\", \"pan\"], [\"Zoom\", \"Zoom to rectangle\", \"fa fa-square-o icon-check-empty\", \"zoom\"], [\"\", \"\", \"\", \"\"], [\"Download\", \"Download plot\", \"fa fa-floppy-o icon-save\", \"download\"]];\n",
       "\n",
       "mpl.extensions = [\"eps\", \"jpeg\", \"pdf\", \"png\", \"ps\", \"raw\", \"svg\", \"tif\"];\n",
       "\n",
       "mpl.default_extension = \"png\";var comm_websocket_adapter = function(comm) {\n",
       "    // Create a \"websocket\"-like object which calls the given IPython comm\n",
       "    // object with the appropriate methods. Currently this is a non binary\n",
       "    // socket, so there is still some room for performance tuning.\n",
       "    var ws = {};\n",
       "\n",
       "    ws.close = function() {\n",
       "        comm.close()\n",
       "    };\n",
       "    ws.send = function(m) {\n",
       "        //console.log('sending', m);\n",
       "        comm.send(m);\n",
       "    };\n",
       "    // Register the callback with on_msg.\n",
       "    comm.on_msg(function(msg) {\n",
       "        //console.log('receiving', msg['content']['data'], msg);\n",
       "        // Pass the mpl event to the overridden (by mpl) onmessage function.\n",
       "        ws.onmessage(msg['content']['data'])\n",
       "    });\n",
       "    return ws;\n",
       "}\n",
       "\n",
       "mpl.mpl_figure_comm = function(comm, msg) {\n",
       "    // This is the function which gets called when the mpl process\n",
       "    // starts-up an IPython Comm through the \"matplotlib\" channel.\n",
       "\n",
       "    var id = msg.content.data.id;\n",
       "    // Get hold of the div created by the display call when the Comm\n",
       "    // socket was opened in Python.\n",
       "    var element = $(\"#\" + id);\n",
       "    var ws_proxy = comm_websocket_adapter(comm)\n",
       "\n",
       "    function ondownload(figure, format) {\n",
       "        window.open(figure.imageObj.src);\n",
       "    }\n",
       "\n",
       "    var fig = new mpl.figure(id, ws_proxy,\n",
       "                           ondownload,\n",
       "                           element.get(0));\n",
       "\n",
       "    // Call onopen now - mpl needs it, as it is assuming we've passed it a real\n",
       "    // web socket which is closed, not our websocket->open comm proxy.\n",
       "    ws_proxy.onopen();\n",
       "\n",
       "    fig.parent_element = element.get(0);\n",
       "    fig.cell_info = mpl.find_output_cell(\"<div id='\" + id + \"'></div>\");\n",
       "    if (!fig.cell_info) {\n",
       "        console.error(\"Failed to find cell for figure\", id, fig);\n",
       "        return;\n",
       "    }\n",
       "\n",
       "    var output_index = fig.cell_info[2]\n",
       "    var cell = fig.cell_info[0];\n",
       "\n",
       "};\n",
       "\n",
       "mpl.figure.prototype.handle_close = function(fig, msg) {\n",
       "    var width = fig.canvas.width/mpl.ratio\n",
       "    fig.root.unbind('remove')\n",
       "\n",
       "    // Update the output cell to use the data from the current canvas.\n",
       "    fig.push_to_output();\n",
       "    var dataURL = fig.canvas.toDataURL();\n",
       "    // Re-enable the keyboard manager in IPython - without this line, in FF,\n",
       "    // the notebook keyboard shortcuts fail.\n",
       "    IPython.keyboard_manager.enable()\n",
       "    $(fig.parent_element).html('<img src=\"' + dataURL + '\" width=\"' + width + '\">');\n",
       "    fig.close_ws(fig, msg);\n",
       "}\n",
       "\n",
       "mpl.figure.prototype.close_ws = function(fig, msg){\n",
       "    fig.send_message('closing', msg);\n",
       "    // fig.ws.close()\n",
       "}\n",
       "\n",
       "mpl.figure.prototype.push_to_output = function(remove_interactive) {\n",
       "    // Turn the data on the canvas into data in the output cell.\n",
       "    var width = this.canvas.width/mpl.ratio\n",
       "    var dataURL = this.canvas.toDataURL();\n",
       "    this.cell_info[1]['text/html'] = '<img src=\"' + dataURL + '\" width=\"' + width + '\">';\n",
       "}\n",
       "\n",
       "mpl.figure.prototype.updated_canvas_event = function() {\n",
       "    // Tell IPython that the notebook contents must change.\n",
       "    IPython.notebook.set_dirty(true);\n",
       "    this.send_message(\"ack\", {});\n",
       "    var fig = this;\n",
       "    // Wait a second, then push the new image to the DOM so\n",
       "    // that it is saved nicely (might be nice to debounce this).\n",
       "    setTimeout(function () { fig.push_to_output() }, 1000);\n",
       "}\n",
       "\n",
       "mpl.figure.prototype._init_toolbar = function() {\n",
       "    var fig = this;\n",
       "\n",
       "    var nav_element = $('<div/>')\n",
       "    nav_element.attr('style', 'width: 100%');\n",
       "    this.root.append(nav_element);\n",
       "\n",
       "    // Define a callback function for later on.\n",
       "    function toolbar_event(event) {\n",
       "        return fig.toolbar_button_onclick(event['data']);\n",
       "    }\n",
       "    function toolbar_mouse_event(event) {\n",
       "        return fig.toolbar_button_onmouseover(event['data']);\n",
       "    }\n",
       "\n",
       "    for(var toolbar_ind in mpl.toolbar_items){\n",
       "        var name = mpl.toolbar_items[toolbar_ind][0];\n",
       "        var tooltip = mpl.toolbar_items[toolbar_ind][1];\n",
       "        var image = mpl.toolbar_items[toolbar_ind][2];\n",
       "        var method_name = mpl.toolbar_items[toolbar_ind][3];\n",
       "\n",
       "        if (!name) { continue; };\n",
       "\n",
       "        var button = $('<button class=\"btn btn-default\" href=\"#\" title=\"' + name + '\"><i class=\"fa ' + image + ' fa-lg\"></i></button>');\n",
       "        button.click(method_name, toolbar_event);\n",
       "        button.mouseover(tooltip, toolbar_mouse_event);\n",
       "        nav_element.append(button);\n",
       "    }\n",
       "\n",
       "    // Add the status bar.\n",
       "    var status_bar = $('<span class=\"mpl-message\" style=\"text-align:right; float: right;\"/>');\n",
       "    nav_element.append(status_bar);\n",
       "    this.message = status_bar[0];\n",
       "\n",
       "    // Add the close button to the window.\n",
       "    var buttongrp = $('<div class=\"btn-group inline pull-right\"></div>');\n",
       "    var button = $('<button class=\"btn btn-mini btn-primary\" href=\"#\" title=\"Stop Interaction\"><i class=\"fa fa-power-off icon-remove icon-large\"></i></button>');\n",
       "    button.click(function (evt) { fig.handle_close(fig, {}); } );\n",
       "    button.mouseover('Stop Interaction', toolbar_mouse_event);\n",
       "    buttongrp.append(button);\n",
       "    var titlebar = this.root.find($('.ui-dialog-titlebar'));\n",
       "    titlebar.prepend(buttongrp);\n",
       "}\n",
       "\n",
       "mpl.figure.prototype._root_extra_style = function(el){\n",
       "    var fig = this\n",
       "    el.on(\"remove\", function(){\n",
       "\tfig.close_ws(fig, {});\n",
       "    });\n",
       "}\n",
       "\n",
       "mpl.figure.prototype._canvas_extra_style = function(el){\n",
       "    // this is important to make the div 'focusable\n",
       "    el.attr('tabindex', 0)\n",
       "    // reach out to IPython and tell the keyboard manager to turn it's self\n",
       "    // off when our div gets focus\n",
       "\n",
       "    // location in version 3\n",
       "    if (IPython.notebook.keyboard_manager) {\n",
       "        IPython.notebook.keyboard_manager.register_events(el);\n",
       "    }\n",
       "    else {\n",
       "        // location in version 2\n",
       "        IPython.keyboard_manager.register_events(el);\n",
       "    }\n",
       "\n",
       "}\n",
       "\n",
       "mpl.figure.prototype._key_event_extra = function(event, name) {\n",
       "    var manager = IPython.notebook.keyboard_manager;\n",
       "    if (!manager)\n",
       "        manager = IPython.keyboard_manager;\n",
       "\n",
       "    // Check for shift+enter\n",
       "    if (event.shiftKey && event.which == 13) {\n",
       "        this.canvas_div.blur();\n",
       "        event.shiftKey = false;\n",
       "        // Send a \"J\" for go to next cell\n",
       "        event.which = 74;\n",
       "        event.keyCode = 74;\n",
       "        manager.command_mode();\n",
       "        manager.handle_keydown(event);\n",
       "    }\n",
       "}\n",
       "\n",
       "mpl.figure.prototype.handle_save = function(fig, msg) {\n",
       "    fig.ondownload(fig, null);\n",
       "}\n",
       "\n",
       "\n",
       "mpl.find_output_cell = function(html_output) {\n",
       "    // Return the cell and output element which can be found *uniquely* in the notebook.\n",
       "    // Note - this is a bit hacky, but it is done because the \"notebook_saving.Notebook\"\n",
       "    // IPython event is triggered only after the cells have been serialised, which for\n",
       "    // our purposes (turning an active figure into a static one), is too late.\n",
       "    var cells = IPython.notebook.get_cells();\n",
       "    var ncells = cells.length;\n",
       "    for (var i=0; i<ncells; i++) {\n",
       "        var cell = cells[i];\n",
       "        if (cell.cell_type === 'code'){\n",
       "            for (var j=0; j<cell.output_area.outputs.length; j++) {\n",
       "                var data = cell.output_area.outputs[j];\n",
       "                if (data.data) {\n",
       "                    // IPython >= 3 moved mimebundle to data attribute of output\n",
       "                    data = data.data;\n",
       "                }\n",
       "                if (data['text/html'] == html_output) {\n",
       "                    return [cell, data, j];\n",
       "                }\n",
       "            }\n",
       "        }\n",
       "    }\n",
       "}\n",
       "\n",
       "// Register the function which deals with the matplotlib target/channel.\n",
       "// The kernel may be null if the page has been refreshed.\n",
       "if (IPython.notebook.kernel != null) {\n",
       "    IPython.notebook.kernel.comm_manager.register_target('matplotlib', mpl.mpl_figure_comm);\n",
       "}\n"
      ],
      "text/plain": [
       "<IPython.core.display.Javascript object>"
      ]
     },
     "metadata": {},
     "output_type": "display_data"
    },
    {
     "data": {
      "text/html": [
       "<img src=\"data:image/png;base64,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\" width=\"640\">"
      ],
      "text/plain": [
       "<IPython.core.display.HTML object>"
      ]
     },
     "metadata": {},
     "output_type": "display_data"
    },
    {
     "data": {
      "text/plain": [
       "[<matplotlib.lines.Line2D at 0x7f9f4a9146a0>]"
      ]
     },
     "execution_count": 11,
     "metadata": {},
     "output_type": "execute_result"
    }
   ],
   "source": [
    "# GEnerate a sequence of numbers from  -10 to 0 with 100 steps in between\n",
    "x = np.linspace(-10, 10, 100)\n",
    "\n",
    "# create a second array using sine\n",
    "y = np.sin(x)\n",
    "\n",
    "# The plot function makes a line chart of one array against another\n",
    "plt.plot(x, y, marker=\"x\")"
   ]
  },
  {
   "cell_type": "markdown",
   "metadata": {},
   "source": [
    "### Pandas\n",
    "A library used for data wrangling and analysis. It's built around the dataframe structure, has sql like capabilities. "
   ]
  },
  {
   "cell_type": "code",
   "execution_count": 12,
   "metadata": {},
   "outputs": [],
   "source": [
    "import pandas as pd"
   ]
  },
  {
   "cell_type": "code",
   "execution_count": 13,
   "metadata": {},
   "outputs": [],
   "source": [
    "# creating a dataset\n",
    "data  = { 'Name' :[\"John\",\"Anna\", \"Peter\", \"Linda\"],\n",
    "          'Location' : [\"New York\", \"Paris\", \"Berlin\", \"London\"],\n",
    "         'Age' : [24, 13, 53, 33]\n",
    "    \n",
    "}"
   ]
  },
  {
   "cell_type": "code",
   "execution_count": 14,
   "metadata": {},
   "outputs": [],
   "source": [
    "data_pandas = pd.DataFrame(data)"
   ]
  },
  {
   "cell_type": "code",
   "execution_count": 15,
   "metadata": {},
   "outputs": [
    {
     "data": {
      "text/html": [
       "<div>\n",
       "<style scoped>\n",
       "    .dataframe tbody tr th:only-of-type {\n",
       "        vertical-align: middle;\n",
       "    }\n",
       "\n",
       "    .dataframe tbody tr th {\n",
       "        vertical-align: top;\n",
       "    }\n",
       "\n",
       "    .dataframe thead th {\n",
       "        text-align: right;\n",
       "    }\n",
       "</style>\n",
       "<table border=\"1\" class=\"dataframe\">\n",
       "  <thead>\n",
       "    <tr style=\"text-align: right;\">\n",
       "      <th></th>\n",
       "      <th>Name</th>\n",
       "      <th>Location</th>\n",
       "      <th>Age</th>\n",
       "    </tr>\n",
       "  </thead>\n",
       "  <tbody>\n",
       "    <tr>\n",
       "      <th>0</th>\n",
       "      <td>John</td>\n",
       "      <td>New York</td>\n",
       "      <td>24</td>\n",
       "    </tr>\n",
       "    <tr>\n",
       "      <th>1</th>\n",
       "      <td>Anna</td>\n",
       "      <td>Paris</td>\n",
       "      <td>13</td>\n",
       "    </tr>\n",
       "    <tr>\n",
       "      <th>2</th>\n",
       "      <td>Peter</td>\n",
       "      <td>Berlin</td>\n",
       "      <td>53</td>\n",
       "    </tr>\n",
       "    <tr>\n",
       "      <th>3</th>\n",
       "      <td>Linda</td>\n",
       "      <td>London</td>\n",
       "      <td>33</td>\n",
       "    </tr>\n",
       "  </tbody>\n",
       "</table>\n",
       "</div>"
      ],
      "text/plain": [
       "    Name  Location  Age\n",
       "0   John  New York   24\n",
       "1   Anna     Paris   13\n",
       "2  Peter    Berlin   53\n",
       "3  Linda    London   33"
      ]
     },
     "metadata": {},
     "output_type": "display_data"
    }
   ],
   "source": [
    "display(data_pandas)"
   ]
  },
  {
   "cell_type": "code",
   "execution_count": 16,
   "metadata": {},
   "outputs": [
    {
     "data": {
      "text/html": [
       "<div>\n",
       "<style scoped>\n",
       "    .dataframe tbody tr th:only-of-type {\n",
       "        vertical-align: middle;\n",
       "    }\n",
       "\n",
       "    .dataframe tbody tr th {\n",
       "        vertical-align: top;\n",
       "    }\n",
       "\n",
       "    .dataframe thead th {\n",
       "        text-align: right;\n",
       "    }\n",
       "</style>\n",
       "<table border=\"1\" class=\"dataframe\">\n",
       "  <thead>\n",
       "    <tr style=\"text-align: right;\">\n",
       "      <th></th>\n",
       "      <th>Name</th>\n",
       "      <th>Location</th>\n",
       "      <th>Age</th>\n",
       "    </tr>\n",
       "  </thead>\n",
       "  <tbody>\n",
       "    <tr>\n",
       "      <th>2</th>\n",
       "      <td>Peter</td>\n",
       "      <td>Berlin</td>\n",
       "      <td>53</td>\n",
       "    </tr>\n",
       "    <tr>\n",
       "      <th>3</th>\n",
       "      <td>Linda</td>\n",
       "      <td>London</td>\n",
       "      <td>33</td>\n",
       "    </tr>\n",
       "  </tbody>\n",
       "</table>\n",
       "</div>"
      ],
      "text/plain": [
       "    Name Location  Age\n",
       "2  Peter   Berlin   53\n",
       "3  Linda   London   33"
      ]
     },
     "metadata": {},
     "output_type": "display_data"
    }
   ],
   "source": [
    "# select all rows tha have an age column greater than 30\n",
    "display(data_pandas[data_pandas.Age > 30])"
   ]
  },
  {
   "cell_type": "markdown",
   "metadata": {},
   "source": [
    "## A First Application: Classify Iris Species\n",
    "Our goal is to build a machine learning model that can learn from the measurements of these Irises whose soecies is known so that we can predict the species fir a new iris.\n",
    "We know the input and the output thus this is a supervised learning problem. We wnat to predict  one pf several options this is also a classification problem."
   ]
  },
  {
   "cell_type": "markdown",
   "metadata": {},
   "source": [
    "### Meet the Data\n",
    "Data is included in the scikit-learn dataset module"
   ]
  },
  {
   "cell_type": "code",
   "execution_count": 17,
   "metadata": {},
   "outputs": [],
   "source": [
    "from sklearn.datasets import load_iris"
   ]
  },
  {
   "cell_type": "code",
   "execution_count": 18,
   "metadata": {},
   "outputs": [],
   "source": [
    "iris_dataset = load_iris()"
   ]
  },
  {
   "cell_type": "code",
   "execution_count": 19,
   "metadata": {},
   "outputs": [
    {
     "data": {
      "text/plain": [
       "sklearn.utils.Bunch"
      ]
     },
     "execution_count": 19,
     "metadata": {},
     "output_type": "execute_result"
    }
   ],
   "source": [
    "type(iris_dataset)"
   ]
  },
  {
   "cell_type": "markdown",
   "metadata": {},
   "source": [
    "Data returned is of type Bunch which contains keys and values.\n"
   ]
  },
  {
   "cell_type": "code",
   "execution_count": 20,
   "metadata": {},
   "outputs": [
    {
     "name": "stdout",
     "output_type": "stream",
     "text": [
      "Keys of iris_dataset:\n",
      " dict_keys(['data', 'target', 'target_names', 'DESCR', 'feature_names', 'filename'])\n"
     ]
    }
   ],
   "source": [
    "print(\"Keys of iris_dataset:\\n\", iris_dataset.keys())"
   ]
  },
  {
   "cell_type": "code",
   "execution_count": 23,
   "metadata": {},
   "outputs": [
    {
     "name": "stdout",
     "output_type": "stream",
     "text": [
      ".. _iris_dataset:\n",
      "\n",
      "Iris plants dataset\n",
      "--------------------\n",
      "\n",
      "**Data Set Characteristics:**\n",
      "\n",
      "    :Number of Instances: 150 (50 in each of three classes)\n",
      "    :Number of Attributes: 4 numeric, predictive\n",
      " ...\n"
     ]
    }
   ],
   "source": [
    "print(iris_dataset['DESCR'][:200] +\"\\n ...\")"
   ]
  },
  {
   "cell_type": "code",
   "execution_count": 24,
   "metadata": {},
   "outputs": [
    {
     "name": "stdout",
     "output_type": "stream",
     "text": [
      "Target names: ['setosa' 'versicolor' 'virginica']\n"
     ]
    }
   ],
   "source": [
    "print(\"Target names:\", iris_dataset['target_names'])"
   ]
  },
  {
   "cell_type": "code",
   "execution_count": 25,
   "metadata": {},
   "outputs": [
    {
     "name": "stdout",
     "output_type": "stream",
     "text": [
      "Feature names:\n",
      " ['sepal length (cm)', 'sepal width (cm)', 'petal length (cm)', 'petal width (cm)']\n"
     ]
    }
   ],
   "source": [
    "print(\"Feature names:\\n\", iris_dataset['feature_names'])"
   ]
  },
  {
   "cell_type": "code",
   "execution_count": 26,
   "metadata": {},
   "outputs": [
    {
     "name": "stdout",
     "output_type": "stream",
     "text": [
      "Type of data:  <class 'numpy.ndarray'>\n"
     ]
    }
   ],
   "source": [
    "print(\"Type of data: \", type(iris_dataset['data']))"
   ]
  },
  {
   "cell_type": "code",
   "execution_count": 27,
   "metadata": {},
   "outputs": [
    {
     "name": "stdout",
     "output_type": "stream",
     "text": [
      "shape of data: (150, 4)\n"
     ]
    }
   ],
   "source": [
    "print(\"shape of data:\", iris_dataset['data'].shape)"
   ]
  },
  {
   "cell_type": "markdown",
   "metadata": {},
   "source": [
    "150 samples time four features each. "
   ]
  },
  {
   "cell_type": "code",
   "execution_count": 28,
   "metadata": {},
   "outputs": [
    {
     "name": "stdout",
     "output_type": "stream",
     "text": [
      "First five rows of data: \n",
      " [[5.1 3.5 1.4 0.2]\n",
      " [4.9 3.  1.4 0.2]\n",
      " [4.7 3.2 1.3 0.2]\n",
      " [4.6 3.1 1.5 0.2]\n",
      " [5.  3.6 1.4 0.2]]\n"
     ]
    }
   ],
   "source": [
    "print(\"First five rows of data: \\n\", iris_dataset['data'][:5])"
   ]
  },
  {
   "cell_type": "code",
   "execution_count": 29,
   "metadata": {},
   "outputs": [
    {
     "name": "stdout",
     "output_type": "stream",
     "text": [
      "Type of target:  <class 'numpy.ndarray'>\n"
     ]
    }
   ],
   "source": [
    "print(\"Type of target: \", type(iris_dataset['target']))"
   ]
  },
  {
   "cell_type": "code",
   "execution_count": 30,
   "metadata": {},
   "outputs": [
    {
     "name": "stdout",
     "output_type": "stream",
     "text": [
      "shape of target: (150,)\n"
     ]
    }
   ],
   "source": [
    "print(\"shape of target:\", iris_dataset['target'].shape)"
   ]
  },
  {
   "cell_type": "code",
   "execution_count": 31,
   "metadata": {},
   "outputs": [
    {
     "name": "stdout",
     "output_type": "stream",
     "text": [
      "Target: [0 0 0 0 0 0 0 0 0 0 0 0 0 0 0 0 0 0 0 0 0 0 0 0 0 0 0 0 0 0 0 0 0 0 0 0 0\n",
      " 0 0 0 0 0 0 0 0 0 0 0 0 0 1 1 1 1 1 1 1 1 1 1 1 1 1 1 1 1 1 1 1 1 1 1 1 1\n",
      " 1 1 1 1 1 1 1 1 1 1 1 1 1 1 1 1 1 1 1 1 1 1 1 1 1 1 2 2 2 2 2 2 2 2 2 2 2\n",
      " 2 2 2 2 2 2 2 2 2 2 2 2 2 2 2 2 2 2 2 2 2 2 2 2 2 2 2 2 2 2 2 2 2 2 2 2 2\n",
      " 2 2]\n"
     ]
    }
   ],
   "source": [
    "print(\"Target:\", iris_dataset['target'])"
   ]
  },
  {
   "cell_type": "code",
   "execution_count": 33,
   "metadata": {},
   "outputs": [
    {
     "name": "stdout",
     "output_type": "stream",
     "text": [
      "Target names: ['setosa' 'versicolor' 'virginica']\n"
     ]
    }
   ],
   "source": [
    "print(\"Target names:\", iris_dataset['target_names'])"
   ]
  }
 ],
 "metadata": {
  "kernelspec": {
   "display_name": "Python 3",
   "language": "python",
   "name": "python3"
  },
  "language_info": {
   "codemirror_mode": {
    "name": "ipython",
    "version": 3
   },
   "file_extension": ".py",
   "mimetype": "text/x-python",
   "name": "python",
   "nbconvert_exporter": "python",
   "pygments_lexer": "ipython3",
   "version": "3.7.0"
  },
  "toc": {
   "base_numbering": 1,
   "nav_menu": {},
   "number_sections": true,
   "sideBar": true,
   "skip_h1_title": false,
   "title_cell": "Table of Contents",
   "title_sidebar": "Contents",
   "toc_cell": false,
   "toc_position": {},
   "toc_section_display": true,
   "toc_window_display": true
  }
 },
 "nbformat": 4,
 "nbformat_minor": 2
}
