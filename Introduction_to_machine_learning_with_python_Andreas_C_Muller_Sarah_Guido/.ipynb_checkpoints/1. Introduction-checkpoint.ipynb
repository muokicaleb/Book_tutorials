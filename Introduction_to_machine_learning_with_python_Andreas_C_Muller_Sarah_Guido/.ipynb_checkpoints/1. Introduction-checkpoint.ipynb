{
 "cells": [
  {
   "cell_type": "markdown",
   "metadata": {},
   "source": [
    "# Introduction\n",
    "Machine learning is about extracting knowledge from data. It is a research field at the\n",
    "intersection of statistics, artificial intelligence, and computer science and is also\n",
    "known as predictive analytics or statistical learning.\n",
    "\n",
    "## Why Machine Learning ? \n",
    "\n",
    "Using handcoded rules to make decisions has two major disadvantages:\n",
    "* The logic required to make a decision is specific to a single domain and task. Changing the task even slightly might require a rewrite of the whole system.\n",
    "* Designing rules requires a deep understanding of how a decision should be made by a human expert.\n",
    "\n",
    "### Problems Machine Learning Can Solve.\n",
    "\n",
    "The most successful kinds of machine learning algorithms are those that automate decision-making processes by generalizing from known examples.\n",
    "\n",
    "In supervised learning, the user provides the algorithm with pairs of inputs and desired outputs, and the algorithm finds a way to produce the desired output given an input. In particular, the algorithm is able to create an output for an input it has never seen before without any help from a human\n",
    "\n",
    "Machine learning algorithms that learn from input/output pairs are called supervised learning algorithms.\n",
    "\n",
    "Examples of supervised machine learning tasks include:\n",
    "* Identifying the zip code from handwritten digits on an envelope\n",
    "* Determining whether a tumor is benign based on a medical image\n",
    "* Detecting fraudulent activity in credit card transactions\n",
    "\n",
    "In unsupervised learning, only the input data is known, and no known output data is given to the algorithm.\n",
    "\n",
    "Examples of unsupervised learning include:\n",
    "* Identifying topics in a set of blog posts\n",
    "* Segmenting customers into groups with similar preferences\n",
    "* Detecting abnormal access patterns to a website\n",
    "\n",
    "### Knowing Your Task and Knowing Your Data\n",
    "\n",
    "the most important part in the machine learning process is understanding the data you are working with and how it relates to the task you want to solve.\n",
    "While you are building a machine learning solution,you should answer, or at least keep in mind, the following questions:\n",
    "* What question(s) am I trying to answer? Do I think the data collected can answer that question?\n",
    "* What is the best way to phrase my question(s) as a machine learning problem?\n",
    "* Have I collected enough data to represent the problem I want to solve?\n",
    "* What features of the data did I extract, and will these enable the right predictions?\n",
    "* How will I measure success in my application?\n",
    "* How will the machine learning solution interact with other parts of my research or business product?"
   ]
  },
  {
   "cell_type": "markdown",
   "metadata": {},
   "source": [
    "## Why Python ?\n",
    "\n",
    "It combines the power of general-purpose programming languages with the ease of use of domain-specific scripting languages like MATLAB or R.\n",
    "Python has libraries for data loading, visualization, statistics, natural language processing, image processing, and more. This vast toolbox provides data scientists with a large array of general- and special-purpose functionality. One of the main advantages of using Python is the abil‐ ity to interact directly with the code, using a terminal or other tools like the Jupyter Notebook.\n",
    "\n"
   ]
  },
  {
   "cell_type": "markdown",
   "metadata": {},
   "source": [
    "## scikit-learn\n",
    "\n",
    "scikit-learn is an open source project that contains a number of state-of-the-art machine learning algorithms, as well as comprehensive documentation about each algorithm. scikit-learn is a very popular tool, and the most prominent Python library for machine learning. It is widely used in industry and academia.\n",
    "\n",
    "### Installing scikit-learn\n",
    "$ pip install numpy scipy matplotlib ipython scikit-learn pandas\n",
    "\n"
   ]
  },
  {
   "cell_type": "markdown",
   "metadata": {},
   "source": [
    "### Essential Libraries and Tools\n",
    "\n",
    "#### Jupyter Notebook\n",
    "#### Numpy\n",
    "\n"
   ]
  },
  {
   "cell_type": "code",
   "execution_count": null,
   "metadata": {},
   "outputs": [],
   "source": []
  }
 ],
 "metadata": {
  "kernelspec": {
   "display_name": "Python 3",
   "language": "python",
   "name": "python3"
  },
  "language_info": {
   "codemirror_mode": {
    "name": "ipython",
    "version": 3
   },
   "file_extension": ".py",
   "mimetype": "text/x-python",
   "name": "python",
   "nbconvert_exporter": "python",
   "pygments_lexer": "ipython3",
   "version": "3.7.0"
  },
  "toc": {
   "base_numbering": 1,
   "nav_menu": {},
   "number_sections": true,
   "sideBar": true,
   "skip_h1_title": false,
   "title_cell": "Table of Contents",
   "title_sidebar": "Contents",
   "toc_cell": false,
   "toc_position": {},
   "toc_section_display": true,
   "toc_window_display": true
  }
 },
 "nbformat": 4,
 "nbformat_minor": 2
}
